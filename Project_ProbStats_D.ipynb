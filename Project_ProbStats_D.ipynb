{
 "cells": [
  {
   "cell_type": "code",
   "execution_count": 56,
   "metadata": {},
   "outputs": [],
   "source": [
    "import pandas as pd\n",
    "import numpy as np\n",
    "from scipy.stats import gamma\n",
    "import matplotlib.pyplot as  plt"
   ]
  },
  {
   "cell_type": "code",
   "execution_count": 57,
   "metadata": {},
   "outputs": [
    {
     "name": "stdout",
     "output_type": "stream",
     "text": [
      "D:\\StonyBrook\\Study\\Prob&Stats CSE544\\Project\n"
     ]
    }
   ],
   "source": [
    "%cd D:\\StonyBrook\\Study\\Prob&Stats CSE544\\Project"
   ]
  },
  {
   "cell_type": "code",
   "execution_count": 58,
   "metadata": {},
   "outputs": [],
   "source": [
    "data = pd.read_csv('7.csv')"
   ]
  },
  {
   "cell_type": "code",
   "execution_count": 59,
   "metadata": {},
   "outputs": [],
   "source": [
    "## converting date column to datetime data type ##\n",
    "data['Date'] = pd.to_datetime(data['Date'])"
   ]
  },
  {
   "cell_type": "code",
   "execution_count": 60,
   "metadata": {},
   "outputs": [
    {
     "data": {
      "text/html": [
       "<div>\n",
       "<style scoped>\n",
       "    .dataframe tbody tr th:only-of-type {\n",
       "        vertical-align: middle;\n",
       "    }\n",
       "\n",
       "    .dataframe tbody tr th {\n",
       "        vertical-align: top;\n",
       "    }\n",
       "\n",
       "    .dataframe thead th {\n",
       "        text-align: right;\n",
       "    }\n",
       "</style>\n",
       "<table border=\"1\" class=\"dataframe\">\n",
       "  <thead>\n",
       "    <tr style=\"text-align: right;\">\n",
       "      <th></th>\n",
       "      <th>Date</th>\n",
       "      <th>IA confirmed cumulative</th>\n",
       "      <th>ID confirmed cumulative</th>\n",
       "      <th>IA deaths cumulative</th>\n",
       "      <th>ID deaths cumulative</th>\n",
       "      <th>IA confirmed</th>\n",
       "      <th>ID confirmed</th>\n",
       "      <th>IA deaths</th>\n",
       "      <th>ID deaths</th>\n",
       "    </tr>\n",
       "  </thead>\n",
       "  <tbody>\n",
       "    <tr>\n",
       "      <th>0</th>\n",
       "      <td>2020-01-22</td>\n",
       "      <td>0</td>\n",
       "      <td>0</td>\n",
       "      <td>0</td>\n",
       "      <td>0</td>\n",
       "      <td>NaN</td>\n",
       "      <td>NaN</td>\n",
       "      <td>NaN</td>\n",
       "      <td>NaN</td>\n",
       "    </tr>\n",
       "    <tr>\n",
       "      <th>1</th>\n",
       "      <td>2020-01-23</td>\n",
       "      <td>0</td>\n",
       "      <td>0</td>\n",
       "      <td>0</td>\n",
       "      <td>0</td>\n",
       "      <td>0.0</td>\n",
       "      <td>0.0</td>\n",
       "      <td>0.0</td>\n",
       "      <td>0.0</td>\n",
       "    </tr>\n",
       "    <tr>\n",
       "      <th>2</th>\n",
       "      <td>2020-01-24</td>\n",
       "      <td>0</td>\n",
       "      <td>0</td>\n",
       "      <td>0</td>\n",
       "      <td>0</td>\n",
       "      <td>0.0</td>\n",
       "      <td>0.0</td>\n",
       "      <td>0.0</td>\n",
       "      <td>0.0</td>\n",
       "    </tr>\n",
       "    <tr>\n",
       "      <th>3</th>\n",
       "      <td>2020-01-25</td>\n",
       "      <td>0</td>\n",
       "      <td>0</td>\n",
       "      <td>0</td>\n",
       "      <td>0</td>\n",
       "      <td>0.0</td>\n",
       "      <td>0.0</td>\n",
       "      <td>0.0</td>\n",
       "      <td>0.0</td>\n",
       "    </tr>\n",
       "    <tr>\n",
       "      <th>4</th>\n",
       "      <td>2020-01-26</td>\n",
       "      <td>0</td>\n",
       "      <td>0</td>\n",
       "      <td>0</td>\n",
       "      <td>0</td>\n",
       "      <td>0.0</td>\n",
       "      <td>0.0</td>\n",
       "      <td>0.0</td>\n",
       "      <td>0.0</td>\n",
       "    </tr>\n",
       "    <tr>\n",
       "      <th>...</th>\n",
       "      <td>...</td>\n",
       "      <td>...</td>\n",
       "      <td>...</td>\n",
       "      <td>...</td>\n",
       "      <td>...</td>\n",
       "      <td>...</td>\n",
       "      <td>...</td>\n",
       "      <td>...</td>\n",
       "      <td>...</td>\n",
       "    </tr>\n",
       "    <tr>\n",
       "      <th>433</th>\n",
       "      <td>2021-03-30</td>\n",
       "      <td>349742</td>\n",
       "      <td>179429</td>\n",
       "      <td>5726</td>\n",
       "      <td>1956</td>\n",
       "      <td>141.0</td>\n",
       "      <td>0.0</td>\n",
       "      <td>7.0</td>\n",
       "      <td>0.0</td>\n",
       "    </tr>\n",
       "    <tr>\n",
       "      <th>434</th>\n",
       "      <td>2021-03-31</td>\n",
       "      <td>350840</td>\n",
       "      <td>180536</td>\n",
       "      <td>5744</td>\n",
       "      <td>1962</td>\n",
       "      <td>1098.0</td>\n",
       "      <td>1107.0</td>\n",
       "      <td>18.0</td>\n",
       "      <td>6.0</td>\n",
       "    </tr>\n",
       "    <tr>\n",
       "      <th>435</th>\n",
       "      <td>2021-01-04</td>\n",
       "      <td>351651</td>\n",
       "      <td>180897</td>\n",
       "      <td>5744</td>\n",
       "      <td>1963</td>\n",
       "      <td>811.0</td>\n",
       "      <td>361.0</td>\n",
       "      <td>0.0</td>\n",
       "      <td>1.0</td>\n",
       "    </tr>\n",
       "    <tr>\n",
       "      <th>436</th>\n",
       "      <td>2021-02-04</td>\n",
       "      <td>352262</td>\n",
       "      <td>181181</td>\n",
       "      <td>5752</td>\n",
       "      <td>1966</td>\n",
       "      <td>611.0</td>\n",
       "      <td>284.0</td>\n",
       "      <td>8.0</td>\n",
       "      <td>3.0</td>\n",
       "    </tr>\n",
       "    <tr>\n",
       "      <th>437</th>\n",
       "      <td>2021-03-04</td>\n",
       "      <td>352813</td>\n",
       "      <td>181181</td>\n",
       "      <td>5755</td>\n",
       "      <td>1966</td>\n",
       "      <td>551.0</td>\n",
       "      <td>0.0</td>\n",
       "      <td>3.0</td>\n",
       "      <td>0.0</td>\n",
       "    </tr>\n",
       "  </tbody>\n",
       "</table>\n",
       "<p>438 rows × 9 columns</p>\n",
       "</div>"
      ],
      "text/plain": [
       "          Date  IA confirmed cumulative  ID confirmed cumulative  \\\n",
       "0   2020-01-22                        0                        0   \n",
       "1   2020-01-23                        0                        0   \n",
       "2   2020-01-24                        0                        0   \n",
       "3   2020-01-25                        0                        0   \n",
       "4   2020-01-26                        0                        0   \n",
       "..         ...                      ...                      ...   \n",
       "433 2021-03-30                   349742                   179429   \n",
       "434 2021-03-31                   350840                   180536   \n",
       "435 2021-01-04                   351651                   180897   \n",
       "436 2021-02-04                   352262                   181181   \n",
       "437 2021-03-04                   352813                   181181   \n",
       "\n",
       "     IA deaths cumulative  ID deaths cumulative  IA confirmed  ID confirmed  \\\n",
       "0                       0                     0           NaN           NaN   \n",
       "1                       0                     0           0.0           0.0   \n",
       "2                       0                     0           0.0           0.0   \n",
       "3                       0                     0           0.0           0.0   \n",
       "4                       0                     0           0.0           0.0   \n",
       "..                    ...                   ...           ...           ...   \n",
       "433                  5726                  1956         141.0           0.0   \n",
       "434                  5744                  1962        1098.0        1107.0   \n",
       "435                  5744                  1963         811.0         361.0   \n",
       "436                  5752                  1966         611.0         284.0   \n",
       "437                  5755                  1966         551.0           0.0   \n",
       "\n",
       "     IA deaths  ID deaths  \n",
       "0          NaN        NaN  \n",
       "1          0.0        0.0  \n",
       "2          0.0        0.0  \n",
       "3          0.0        0.0  \n",
       "4          0.0        0.0  \n",
       "..         ...        ...  \n",
       "433        7.0        0.0  \n",
       "434       18.0        6.0  \n",
       "435        0.0        1.0  \n",
       "436        8.0        3.0  \n",
       "437        3.0        0.0  \n",
       "\n",
       "[438 rows x 9 columns]"
      ]
     },
     "execution_count": 60,
     "metadata": {},
     "output_type": "execute_result"
    }
   ],
   "source": [
    "data"
   ]
  },
  {
   "cell_type": "code",
   "execution_count": 61,
   "metadata": {},
   "outputs": [
    {
     "name": "stdout",
     "output_type": "stream",
     "text": [
      "<class 'pandas.core.frame.DataFrame'>\n",
      "RangeIndex: 438 entries, 0 to 437\n",
      "Data columns (total 9 columns):\n",
      " #   Column                   Non-Null Count  Dtype         \n",
      "---  ------                   --------------  -----         \n",
      " 0   Date                     438 non-null    datetime64[ns]\n",
      " 1   IA confirmed cumulative  438 non-null    int64         \n",
      " 2   ID confirmed cumulative  438 non-null    int64         \n",
      " 3   IA deaths cumulative     438 non-null    int64         \n",
      " 4   ID deaths cumulative     438 non-null    int64         \n",
      " 5   IA confirmed             437 non-null    float64       \n",
      " 6   ID confirmed             437 non-null    float64       \n",
      " 7   IA deaths                437 non-null    float64       \n",
      " 8   ID deaths                437 non-null    float64       \n",
      "dtypes: datetime64[ns](1), float64(4), int64(4)\n",
      "memory usage: 30.9 KB\n"
     ]
    }
   ],
   "source": [
    "data.info()"
   ]
  },
  {
   "cell_type": "code",
   "execution_count": 62,
   "metadata": {},
   "outputs": [],
   "source": [
    "def MME_Poisson(X):\n",
    "    estimate = np.mean(X)\n",
    "    return estimate\n",
    "\n",
    "def get_estimates(exp_a, lambda_a, exp_b, lambda_b):\n",
    "    return exp_a + exp_b, lambda_a + lambda_b\n",
    "\n",
    "def plot_gamma(table):\n",
    "    for estimate in table:\n",
    "        alpha, beta = estimate[0], estimate[1]\n",
    "        x = np.linspace(gamma.ppf(0.01, alpha),gamma.ppf(0.99, alpha), 100)\n",
    "        MAP = (alpha-1)/beta\n",
    "        plt.plot(x, gamma.pdf(x, alpha), label = 'MAP: %.4f ' %(MAP))\n",
    "        plt.xlabel('x')\n",
    "        plt.ylabel('pdf')\n",
    "    plt.legend(loc=\"upper right\")\n",
    "    plt.title('Gamma curves of estimates')\n",
    "    plt.show()"
   ]
  },
  {
   "cell_type": "code",
   "execution_count": 63,
   "metadata": {},
   "outputs": [],
   "source": [
    "#### June - July 2020 data ######\n",
    "\n",
    "june_start_date, june_end_date = '2020-06-01' , '2020-06-28' # 28 days only\n",
    "posterior_week_start_date, posterior_week_end_date = '2020-06-29' , '2020-07-05'\n",
    "\n",
    "condition = (data['Date'] >= june_start_date) & (data['Date'] <= june_end_date)\n",
    "june_28_data = data.loc[condition] \n",
    "\n",
    "condition = (data['Date'] >= posterior_week_start_date) & (data['Date'] <= posterior_week_end_date)\n",
    "posterior_week_data = data.loc[condition] "
   ]
  },
  {
   "cell_type": "code",
   "execution_count": 64,
   "metadata": {},
   "outputs": [],
   "source": [
    "##### summing up deaths data #####\n",
    "handle_state_1 = 'IA deaths'\n",
    "handle_state_2 = 'ID deaths'\n",
    "\n",
    "june_28_data = june_28_data[handle_state_1] + june_28_data[handle_state_2]\n",
    "\n",
    "posterior_week_data_ = posterior_week_data[handle_state_1] + posterior_week_data[handle_state_2]"
   ]
  },
  {
   "cell_type": "code",
   "execution_count": 65,
   "metadata": {},
   "outputs": [
    {
     "name": "stdout",
     "output_type": "stream",
     "text": [
      " MME of poisson distributed data  6.518518518518518\n",
      " Prior beta value  0.1534090909090909\n"
     ]
    }
   ],
   "source": [
    "# Assuming it to be poisson distributed \n",
    "\n",
    "# Obtaining MME \n",
    "\n",
    "lambda_ = MME_Poisson(june_28_data)\n",
    "\n",
    "print(' MME of poisson distributed data ', lambda_)\n",
    "\n",
    "# prior beta \n",
    "exp_lambda = 1/lambda_ \n",
    "\n",
    "print(' Prior beta value ', exp_lambda)\n",
    "\n",
    "## Since the prior is exponential and likelihood is poisson, the posterior is gamma distributed\n",
    "\n",
    "likelihood_exp_power = len(posterior_week_data_)\n",
    "likelihood_lambda_power = np.sum(posterior_week_data_)\n",
    "\n",
    "prior_exp_power = exp_lambda\n",
    "prior_lambda_power = 0\n",
    "\n",
    "table = []\n",
    "for i in range(4): # till 8th week \n",
    "    prior_exp_power, prior_lambda_power = get_estimates(likelihood_exp_power, likelihood_lambda_power, prior_exp_power, prior_lambda_power)\n",
    "    table.append([prior_lambda_power + 1,prior_exp_power])\n",
    "    \n",
    "    condition+=7\n",
    "    posterior_week_data_ = data.loc[condition]\n",
    "    posterior_week_data_ = posterior_week_data[handle_state_1] + posterior_week_data[handle_state_2]\n",
    "    \n",
    "    likelihood_exp_power = len(posterior_week_data_)\n",
    "    likelihood_lambda_power = np.sum(posterior_week_data_)\n",
    "    "
   ]
  },
  {
   "cell_type": "code",
   "execution_count": 66,
   "metadata": {},
   "outputs": [
    {
     "name": "stdout",
     "output_type": "stream",
     "text": [
      "[[27.0, 6.153409090909091], [53.0, 12.15340909090909], [79.0, 18.15340909090909], [105.0, 24.15340909090909]]\n"
     ]
    }
   ],
   "source": [
    "print(table)"
   ]
  },
  {
   "cell_type": "code",
   "execution_count": 67,
   "metadata": {},
   "outputs": [
    {
     "data": {
      "image/png": "[encoded data removed]",
      "text/plain": [
       "<Figure size 432x288 with 1 Axes>"
      ]
     },
     "metadata": {
      "needs_background": "light"
     },
     "output_type": "display_data"
    }
   ],
   "source": [
    "plot_gamma(table)"
   ]
  }
 ],
 "metadata": {
  "kernelspec": {
   "display_name": "Python 3",
   "language": "python",
   "name": "python3"
  },
  "language_info": {
   "codemirror_mode": {
    "name": "ipython",
    "version": 3
   },
   "file_extension": ".py",
   "mimetype": "text/x-python",
   "name": "python",
   "nbconvert_exporter": "python",
   "pygments_lexer": "ipython3",
   "version": "3.8.5"
  }
 },
 "nbformat": 4,
 "nbformat_minor": 4
}
