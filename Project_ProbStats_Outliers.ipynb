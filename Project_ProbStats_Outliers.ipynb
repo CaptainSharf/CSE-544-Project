{
 "cells": [
  {
   "cell_type": "code",
   "execution_count": 69,
   "metadata": {},
   "outputs": [],
   "source": [
    "import pandas as pd\n",
    "import numpy as np\n",
    "from scipy.stats import gamma\n",
    "import matplotlib.pyplot as  plt"
   ]
  },
  {
   "cell_type": "code",
   "execution_count": 70,
   "metadata": {},
   "outputs": [
    {
     "name": "stdout",
     "output_type": "stream",
     "text": [
      "D:\\StonyBrook\\Study\\Prob&Stats CSE544\\Project\n"
     ]
    }
   ],
   "source": [
    "%cd D:\\StonyBrook\\Study\\Prob&Stats CSE544\\Project"
   ]
  },
  {
   "cell_type": "code",
   "execution_count": 71,
   "metadata": {},
   "outputs": [],
   "source": [
    "data = pd.read_csv('7.csv')"
   ]
  },
  {
   "cell_type": "code",
   "execution_count": 72,
   "metadata": {},
   "outputs": [],
   "source": [
    "## converting date column to datetime data type ##\n",
    "data['Date'] = pd.to_datetime(data['Date'])"
   ]
  },
  {
   "cell_type": "code",
   "execution_count": 73,
   "metadata": {},
   "outputs": [
    {
     "data": {
      "text/html": [
       "<div>\n",
       "<style scoped>\n",
       "    .dataframe tbody tr th:only-of-type {\n",
       "        vertical-align: middle;\n",
       "    }\n",
       "\n",
       "    .dataframe tbody tr th {\n",
       "        vertical-align: top;\n",
       "    }\n",
       "\n",
       "    .dataframe thead th {\n",
       "        text-align: right;\n",
       "    }\n",
       "</style>\n",
       "<table border=\"1\" class=\"dataframe\">\n",
       "  <thead>\n",
       "    <tr style=\"text-align: right;\">\n",
       "      <th></th>\n",
       "      <th>Date</th>\n",
       "      <th>IA confirmed cumulative</th>\n",
       "      <th>ID confirmed cumulative</th>\n",
       "      <th>IA deaths cumulative</th>\n",
       "      <th>ID deaths cumulative</th>\n",
       "      <th>IA confirmed</th>\n",
       "      <th>ID confirmed</th>\n",
       "      <th>IA deaths</th>\n",
       "      <th>ID deaths</th>\n",
       "    </tr>\n",
       "  </thead>\n",
       "  <tbody>\n",
       "    <tr>\n",
       "      <th>0</th>\n",
       "      <td>2020-01-22</td>\n",
       "      <td>0</td>\n",
       "      <td>0</td>\n",
       "      <td>0</td>\n",
       "      <td>0</td>\n",
       "      <td>0</td>\n",
       "      <td>0</td>\n",
       "      <td>0</td>\n",
       "      <td>0</td>\n",
       "    </tr>\n",
       "    <tr>\n",
       "      <th>1</th>\n",
       "      <td>2020-01-23</td>\n",
       "      <td>0</td>\n",
       "      <td>0</td>\n",
       "      <td>0</td>\n",
       "      <td>0</td>\n",
       "      <td>0</td>\n",
       "      <td>0</td>\n",
       "      <td>0</td>\n",
       "      <td>0</td>\n",
       "    </tr>\n",
       "    <tr>\n",
       "      <th>2</th>\n",
       "      <td>2020-01-24</td>\n",
       "      <td>0</td>\n",
       "      <td>0</td>\n",
       "      <td>0</td>\n",
       "      <td>0</td>\n",
       "      <td>0</td>\n",
       "      <td>0</td>\n",
       "      <td>0</td>\n",
       "      <td>0</td>\n",
       "    </tr>\n",
       "    <tr>\n",
       "      <th>3</th>\n",
       "      <td>2020-01-25</td>\n",
       "      <td>0</td>\n",
       "      <td>0</td>\n",
       "      <td>0</td>\n",
       "      <td>0</td>\n",
       "      <td>0</td>\n",
       "      <td>0</td>\n",
       "      <td>0</td>\n",
       "      <td>0</td>\n",
       "    </tr>\n",
       "    <tr>\n",
       "      <th>4</th>\n",
       "      <td>2020-01-26</td>\n",
       "      <td>0</td>\n",
       "      <td>0</td>\n",
       "      <td>0</td>\n",
       "      <td>0</td>\n",
       "      <td>0</td>\n",
       "      <td>0</td>\n",
       "      <td>0</td>\n",
       "      <td>0</td>\n",
       "    </tr>\n",
       "    <tr>\n",
       "      <th>...</th>\n",
       "      <td>...</td>\n",
       "      <td>...</td>\n",
       "      <td>...</td>\n",
       "      <td>...</td>\n",
       "      <td>...</td>\n",
       "      <td>...</td>\n",
       "      <td>...</td>\n",
       "      <td>...</td>\n",
       "      <td>...</td>\n",
       "    </tr>\n",
       "    <tr>\n",
       "      <th>433</th>\n",
       "      <td>2021-03-30</td>\n",
       "      <td>349742</td>\n",
       "      <td>179429</td>\n",
       "      <td>5726</td>\n",
       "      <td>1956</td>\n",
       "      <td>141</td>\n",
       "      <td>0</td>\n",
       "      <td>7</td>\n",
       "      <td>0</td>\n",
       "    </tr>\n",
       "    <tr>\n",
       "      <th>434</th>\n",
       "      <td>2021-03-31</td>\n",
       "      <td>350840</td>\n",
       "      <td>180536</td>\n",
       "      <td>5744</td>\n",
       "      <td>1962</td>\n",
       "      <td>1098</td>\n",
       "      <td>1107</td>\n",
       "      <td>18</td>\n",
       "      <td>6</td>\n",
       "    </tr>\n",
       "    <tr>\n",
       "      <th>435</th>\n",
       "      <td>2021-01-04</td>\n",
       "      <td>351651</td>\n",
       "      <td>180897</td>\n",
       "      <td>5744</td>\n",
       "      <td>1963</td>\n",
       "      <td>811</td>\n",
       "      <td>361</td>\n",
       "      <td>0</td>\n",
       "      <td>1</td>\n",
       "    </tr>\n",
       "    <tr>\n",
       "      <th>436</th>\n",
       "      <td>2021-02-04</td>\n",
       "      <td>352262</td>\n",
       "      <td>181181</td>\n",
       "      <td>5752</td>\n",
       "      <td>1966</td>\n",
       "      <td>611</td>\n",
       "      <td>284</td>\n",
       "      <td>8</td>\n",
       "      <td>3</td>\n",
       "    </tr>\n",
       "    <tr>\n",
       "      <th>437</th>\n",
       "      <td>2021-03-04</td>\n",
       "      <td>352813</td>\n",
       "      <td>181181</td>\n",
       "      <td>5755</td>\n",
       "      <td>1966</td>\n",
       "      <td>551</td>\n",
       "      <td>0</td>\n",
       "      <td>3</td>\n",
       "      <td>0</td>\n",
       "    </tr>\n",
       "  </tbody>\n",
       "</table>\n",
       "<p>438 rows × 9 columns</p>\n",
       "</div>"
      ],
      "text/plain": [
       "          Date  IA confirmed cumulative  ID confirmed cumulative  \\\n",
       "0   2020-01-22                        0                        0   \n",
       "1   2020-01-23                        0                        0   \n",
       "2   2020-01-24                        0                        0   \n",
       "3   2020-01-25                        0                        0   \n",
       "4   2020-01-26                        0                        0   \n",
       "..         ...                      ...                      ...   \n",
       "433 2021-03-30                   349742                   179429   \n",
       "434 2021-03-31                   350840                   180536   \n",
       "435 2021-01-04                   351651                   180897   \n",
       "436 2021-02-04                   352262                   181181   \n",
       "437 2021-03-04                   352813                   181181   \n",
       "\n",
       "     IA deaths cumulative  ID deaths cumulative  IA confirmed  ID confirmed  \\\n",
       "0                       0                     0             0             0   \n",
       "1                       0                     0             0             0   \n",
       "2                       0                     0             0             0   \n",
       "3                       0                     0             0             0   \n",
       "4                       0                     0             0             0   \n",
       "..                    ...                   ...           ...           ...   \n",
       "433                  5726                  1956           141             0   \n",
       "434                  5744                  1962          1098          1107   \n",
       "435                  5744                  1963           811           361   \n",
       "436                  5752                  1966           611           284   \n",
       "437                  5755                  1966           551             0   \n",
       "\n",
       "     IA deaths  ID deaths  \n",
       "0            0          0  \n",
       "1            0          0  \n",
       "2            0          0  \n",
       "3            0          0  \n",
       "4            0          0  \n",
       "..         ...        ...  \n",
       "433          7          0  \n",
       "434         18          6  \n",
       "435          0          1  \n",
       "436          8          3  \n",
       "437          3          0  \n",
       "\n",
       "[438 rows x 9 columns]"
      ]
     },
     "execution_count": 73,
     "metadata": {},
     "output_type": "execute_result"
    }
   ],
   "source": [
    "data"
   ]
  },
  {
   "cell_type": "code",
   "execution_count": 74,
   "metadata": {},
   "outputs": [
    {
     "name": "stdout",
     "output_type": "stream",
     "text": [
      "<class 'pandas.core.frame.DataFrame'>\n",
      "RangeIndex: 438 entries, 0 to 437\n",
      "Data columns (total 9 columns):\n",
      " #   Column                   Non-Null Count  Dtype         \n",
      "---  ------                   --------------  -----         \n",
      " 0   Date                     438 non-null    datetime64[ns]\n",
      " 1   IA confirmed cumulative  438 non-null    int64         \n",
      " 2   ID confirmed cumulative  438 non-null    int64         \n",
      " 3   IA deaths cumulative     438 non-null    int64         \n",
      " 4   ID deaths cumulative     438 non-null    int64         \n",
      " 5   IA confirmed             438 non-null    int64         \n",
      " 6   ID confirmed             438 non-null    int64         \n",
      " 7   IA deaths                438 non-null    int64         \n",
      " 8   ID deaths                438 non-null    int64         \n",
      "dtypes: datetime64[ns](1), int64(8)\n",
      "memory usage: 30.9 KB\n"
     ]
    }
   ],
   "source": [
    "data.info()"
   ]
  },
  {
   "cell_type": "code",
   "execution_count": 75,
   "metadata": {},
   "outputs": [],
   "source": [
    "def IQR(X):\n",
    "    X = sorted(X)\n",
    "    n = len(X)\n",
    "    Q1 = X[np.int(np.ceil(n/4))]\n",
    "    Q3 = X[np.int(np.ceil(3*n/4))]\n",
    "    \n",
    "    return Q3-Q1, Q1, Q3   \n",
    "\n",
    "def outliers(X, handle, a, b):\n",
    "    if( a < 0): a=0\n",
    "        \n",
    "    condition = (X[handle] < a) | (X[handle] > b)\n",
    "    outlier = X.loc[condition]\n",
    "    \n",
    "    return outlier\n",
    "    "
   ]
  },
  {
   "cell_type": "code",
   "execution_count": 82,
   "metadata": {},
   "outputs": [
    {
     "data": {
      "image/png": "[encoded data removed]",
      "text/plain": [
       "<Figure size 432x288 with 1 Axes>"
      ]
     },
     "metadata": {
      "needs_background": "light"
     },
     "output_type": "display_data"
    },
    {
     "name": "stdout",
     "output_type": "stream",
     "text": [
      "37\n"
     ]
    }
   ],
   "source": [
    "handle = 'ID deaths'\n",
    "\n",
    "iqr, q1,q3 = IQR(data[handle])\n",
    "threshold_min = q1 - 1.5 * iqr\n",
    "threshold_max = q3 + 1.5 * iqr\n",
    "\n",
    "\n",
    "outlier_data = outliers(data, handle, threshold_min, threshold_max)\n",
    "\n",
    "plt.scatter(data['Date'], data[handle])\n",
    "plt.scatter(outlier_data['Date'], outlier_data[handle])\n",
    "plt.show()\n",
    "print(len(outlier_data))"
   ]
  },
  {
   "cell_type": "code",
   "execution_count": 83,
   "metadata": {},
   "outputs": [],
   "source": [
    "# Negative value found at 2020-12-25 for ID state. \n",
    "\n",
    "# Outliers - \n",
    "\n",
    "# IA confirmed - 38\n",
    "# IA deaths - 35\n",
    "# ID confirmed - 28\n",
    "# ID deaths - 37"
   ]
  }
 ],
 "metadata": {
  "kernelspec": {
   "display_name": "Python 3",
   "language": "python",
   "name": "python3"
  },
  "language_info": {
   "codemirror_mode": {
    "name": "ipython",
    "version": 3
   },
   "file_extension": ".py",
   "mimetype": "text/x-python",
   "name": "python",
   "nbconvert_exporter": "python",
   "pygments_lexer": "ipython3",
   "version": "3.8.5"
  }
 },
 "nbformat": 4,
 "nbformat_minor": 4
}
