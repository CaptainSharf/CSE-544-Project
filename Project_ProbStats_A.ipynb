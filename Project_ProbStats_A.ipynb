{
 "cells": [
  {
   "cell_type": "code",
   "execution_count": 1,
   "metadata": {},
   "outputs": [],
   "source": [
    "import pandas as pd\n",
    "import numpy as np"
   ]
  },
  {
   "cell_type": "code",
   "execution_count": 2,
   "metadata": {},
   "outputs": [
    {
     "name": "stdout",
     "output_type": "stream",
     "text": [
      "D:\\StonyBrook\\Study\\Prob&Stats CSE544\\Project\n"
     ]
    }
   ],
   "source": [
    "%cd D:\\StonyBrook\\Study\\Prob&Stats CSE544\\Project"
   ]
  },
  {
   "cell_type": "code",
   "execution_count": 3,
   "metadata": {},
   "outputs": [],
   "source": [
    "data = pd.read_csv('7.csv')"
   ]
  },
  {
   "cell_type": "code",
   "execution_count": 4,
   "metadata": {},
   "outputs": [],
   "source": [
    "## converting date column to datetime data type ##\n",
    "data['Date'] = pd.to_datetime(data['Date'])"
   ]
  },
  {
   "cell_type": "code",
   "execution_count": 5,
   "metadata": {},
   "outputs": [
    {
     "data": {
      "text/html": [
       "<div>\n",
       "<style scoped>\n",
       "    .dataframe tbody tr th:only-of-type {\n",
       "        vertical-align: middle;\n",
       "    }\n",
       "\n",
       "    .dataframe tbody tr th {\n",
       "        vertical-align: top;\n",
       "    }\n",
       "\n",
       "    .dataframe thead th {\n",
       "        text-align: right;\n",
       "    }\n",
       "</style>\n",
       "<table border=\"1\" class=\"dataframe\">\n",
       "  <thead>\n",
       "    <tr style=\"text-align: right;\">\n",
       "      <th></th>\n",
       "      <th>Date</th>\n",
       "      <th>IA confirmed cumulative</th>\n",
       "      <th>ID confirmed cumulative</th>\n",
       "      <th>IA deaths cumulative</th>\n",
       "      <th>ID deaths cumulative</th>\n",
       "      <th>IA confirmed</th>\n",
       "      <th>ID confirmed</th>\n",
       "      <th>IA deaths</th>\n",
       "      <th>ID deaths</th>\n",
       "    </tr>\n",
       "  </thead>\n",
       "  <tbody>\n",
       "    <tr>\n",
       "      <th>0</th>\n",
       "      <td>2020-01-22</td>\n",
       "      <td>0</td>\n",
       "      <td>0</td>\n",
       "      <td>0</td>\n",
       "      <td>0</td>\n",
       "      <td>NaN</td>\n",
       "      <td>NaN</td>\n",
       "      <td>NaN</td>\n",
       "      <td>NaN</td>\n",
       "    </tr>\n",
       "    <tr>\n",
       "      <th>1</th>\n",
       "      <td>2020-01-23</td>\n",
       "      <td>0</td>\n",
       "      <td>0</td>\n",
       "      <td>0</td>\n",
       "      <td>0</td>\n",
       "      <td>0.0</td>\n",
       "      <td>0.0</td>\n",
       "      <td>0.0</td>\n",
       "      <td>0.0</td>\n",
       "    </tr>\n",
       "    <tr>\n",
       "      <th>2</th>\n",
       "      <td>2020-01-24</td>\n",
       "      <td>0</td>\n",
       "      <td>0</td>\n",
       "      <td>0</td>\n",
       "      <td>0</td>\n",
       "      <td>0.0</td>\n",
       "      <td>0.0</td>\n",
       "      <td>0.0</td>\n",
       "      <td>0.0</td>\n",
       "    </tr>\n",
       "    <tr>\n",
       "      <th>3</th>\n",
       "      <td>2020-01-25</td>\n",
       "      <td>0</td>\n",
       "      <td>0</td>\n",
       "      <td>0</td>\n",
       "      <td>0</td>\n",
       "      <td>0.0</td>\n",
       "      <td>0.0</td>\n",
       "      <td>0.0</td>\n",
       "      <td>0.0</td>\n",
       "    </tr>\n",
       "    <tr>\n",
       "      <th>4</th>\n",
       "      <td>2020-01-26</td>\n",
       "      <td>0</td>\n",
       "      <td>0</td>\n",
       "      <td>0</td>\n",
       "      <td>0</td>\n",
       "      <td>0.0</td>\n",
       "      <td>0.0</td>\n",
       "      <td>0.0</td>\n",
       "      <td>0.0</td>\n",
       "    </tr>\n",
       "    <tr>\n",
       "      <th>...</th>\n",
       "      <td>...</td>\n",
       "      <td>...</td>\n",
       "      <td>...</td>\n",
       "      <td>...</td>\n",
       "      <td>...</td>\n",
       "      <td>...</td>\n",
       "      <td>...</td>\n",
       "      <td>...</td>\n",
       "      <td>...</td>\n",
       "    </tr>\n",
       "    <tr>\n",
       "      <th>433</th>\n",
       "      <td>2021-03-30</td>\n",
       "      <td>349742</td>\n",
       "      <td>179429</td>\n",
       "      <td>5726</td>\n",
       "      <td>1956</td>\n",
       "      <td>141.0</td>\n",
       "      <td>0.0</td>\n",
       "      <td>7.0</td>\n",
       "      <td>0.0</td>\n",
       "    </tr>\n",
       "    <tr>\n",
       "      <th>434</th>\n",
       "      <td>2021-03-31</td>\n",
       "      <td>350840</td>\n",
       "      <td>180536</td>\n",
       "      <td>5744</td>\n",
       "      <td>1962</td>\n",
       "      <td>1098.0</td>\n",
       "      <td>1107.0</td>\n",
       "      <td>18.0</td>\n",
       "      <td>6.0</td>\n",
       "    </tr>\n",
       "    <tr>\n",
       "      <th>435</th>\n",
       "      <td>2021-01-04</td>\n",
       "      <td>351651</td>\n",
       "      <td>180897</td>\n",
       "      <td>5744</td>\n",
       "      <td>1963</td>\n",
       "      <td>811.0</td>\n",
       "      <td>361.0</td>\n",
       "      <td>0.0</td>\n",
       "      <td>1.0</td>\n",
       "    </tr>\n",
       "    <tr>\n",
       "      <th>436</th>\n",
       "      <td>2021-02-04</td>\n",
       "      <td>352262</td>\n",
       "      <td>181181</td>\n",
       "      <td>5752</td>\n",
       "      <td>1966</td>\n",
       "      <td>611.0</td>\n",
       "      <td>284.0</td>\n",
       "      <td>8.0</td>\n",
       "      <td>3.0</td>\n",
       "    </tr>\n",
       "    <tr>\n",
       "      <th>437</th>\n",
       "      <td>2021-03-04</td>\n",
       "      <td>352813</td>\n",
       "      <td>181181</td>\n",
       "      <td>5755</td>\n",
       "      <td>1966</td>\n",
       "      <td>551.0</td>\n",
       "      <td>0.0</td>\n",
       "      <td>3.0</td>\n",
       "      <td>0.0</td>\n",
       "    </tr>\n",
       "  </tbody>\n",
       "</table>\n",
       "<p>438 rows × 9 columns</p>\n",
       "</div>"
      ],
      "text/plain": [
       "          Date  IA confirmed cumulative  ID confirmed cumulative  \\\n",
       "0   2020-01-22                        0                        0   \n",
       "1   2020-01-23                        0                        0   \n",
       "2   2020-01-24                        0                        0   \n",
       "3   2020-01-25                        0                        0   \n",
       "4   2020-01-26                        0                        0   \n",
       "..         ...                      ...                      ...   \n",
       "433 2021-03-30                   349742                   179429   \n",
       "434 2021-03-31                   350840                   180536   \n",
       "435 2021-01-04                   351651                   180897   \n",
       "436 2021-02-04                   352262                   181181   \n",
       "437 2021-03-04                   352813                   181181   \n",
       "\n",
       "     IA deaths cumulative  ID deaths cumulative  IA confirmed  ID confirmed  \\\n",
       "0                       0                     0           NaN           NaN   \n",
       "1                       0                     0           0.0           0.0   \n",
       "2                       0                     0           0.0           0.0   \n",
       "3                       0                     0           0.0           0.0   \n",
       "4                       0                     0           0.0           0.0   \n",
       "..                    ...                   ...           ...           ...   \n",
       "433                  5726                  1956         141.0           0.0   \n",
       "434                  5744                  1962        1098.0        1107.0   \n",
       "435                  5744                  1963         811.0         361.0   \n",
       "436                  5752                  1966         611.0         284.0   \n",
       "437                  5755                  1966         551.0           0.0   \n",
       "\n",
       "     IA deaths  ID deaths  \n",
       "0          NaN        NaN  \n",
       "1          0.0        0.0  \n",
       "2          0.0        0.0  \n",
       "3          0.0        0.0  \n",
       "4          0.0        0.0  \n",
       "..         ...        ...  \n",
       "433        7.0        0.0  \n",
       "434       18.0        6.0  \n",
       "435        0.0        1.0  \n",
       "436        8.0        3.0  \n",
       "437        3.0        0.0  \n",
       "\n",
       "[438 rows x 9 columns]"
      ]
     },
     "execution_count": 5,
     "metadata": {},
     "output_type": "execute_result"
    }
   ],
   "source": [
    "data"
   ]
  },
  {
   "cell_type": "code",
   "execution_count": 6,
   "metadata": {
    "scrolled": false
   },
   "outputs": [
    {
     "name": "stdout",
     "output_type": "stream",
     "text": [
      "<class 'pandas.core.frame.DataFrame'>\n",
      "RangeIndex: 438 entries, 0 to 437\n",
      "Data columns (total 9 columns):\n",
      " #   Column                   Non-Null Count  Dtype         \n",
      "---  ------                   --------------  -----         \n",
      " 0   Date                     438 non-null    datetime64[ns]\n",
      " 1   IA confirmed cumulative  438 non-null    int64         \n",
      " 2   ID confirmed cumulative  438 non-null    int64         \n",
      " 3   IA deaths cumulative     438 non-null    int64         \n",
      " 4   ID deaths cumulative     438 non-null    int64         \n",
      " 5   IA confirmed             437 non-null    float64       \n",
      " 6   ID confirmed             437 non-null    float64       \n",
      " 7   IA deaths                437 non-null    float64       \n",
      " 8   ID deaths                437 non-null    float64       \n",
      "dtypes: datetime64[ns](1), float64(4), int64(4)\n",
      "memory usage: 30.9 KB\n"
     ]
    }
   ],
   "source": [
    "data.info()"
   ]
  },
  {
   "cell_type": "code",
   "execution_count": 7,
   "metadata": {},
   "outputs": [],
   "source": [
    "def generate_data(p,data):\n",
    "    X, Y = [], []\n",
    "    for i in range(len(data) - p):\n",
    "        X.append([1] + data[i:i+p].tolist())  # appending 1 for beta_0\n",
    "    \n",
    "    Y = data[p:].tolist()\n",
    "\n",
    "    return np.array(X),np.array(Y)"
   ]
  },
  {
   "cell_type": "code",
   "execution_count": 8,
   "metadata": {},
   "outputs": [],
   "source": [
    "def SSE(y_pred, y_true):\n",
    "    A = y_true - y_pred\n",
    "    A = A*A\n",
    "    return sum(A)\n",
    "\n",
    "def MSE(y_pred,y_true):\n",
    "    return SSE(y_pred,y_true)/len(y_pred)\n",
    "\n",
    "def MAPE(y_pred, y_true):\n",
    "    A = np.abs(y_true - y_pred)\n",
    "    A = np.sum(np.divide(A, y_true))*100\n",
    "    return A/len(y_pred)"
   ]
  },
  {
   "cell_type": "code",
   "execution_count": 9,
   "metadata": {},
   "outputs": [],
   "source": [
    "def AutoRegression(p, data):\n",
    "    X, Y = generate_data(p, data)\n",
    "    A = np.linalg.inv(np.matmul(np.transpose(X), X))\n",
    "    B = np.matmul(np.transpose(X), Y)\n",
    "    beta = np.matmul(A,B)\n",
    "    \n",
    "    return beta\n",
    "\n",
    "def Predict_AR(data, beta):\n",
    "    p = len(beta) - 1 \n",
    "    data = data.to_numpy()\n",
    "    for i in range(7):\n",
    "        y_pred = beta[0] + np.matmul(data[-p:].T, beta[1:])\n",
    "        data = np.append(data,y_pred)\n",
    "    \n",
    "    return data"
   ]
  },
  {
   "cell_type": "code",
   "execution_count": null,
   "metadata": {},
   "outputs": [],
   "source": []
  },
  {
   "cell_type": "code",
   "execution_count": 10,
   "metadata": {},
   "outputs": [],
   "source": [
    "###### Outlier Detection Using Tukey's Rule ########\n",
    "## Plot data ####"
   ]
  },
  {
   "cell_type": "code",
   "execution_count": 30,
   "metadata": {},
   "outputs": [
    {
     "name": "stdout",
     "output_type": "stream",
     "text": [
      "          Date  IA confirmed cumulative  ID confirmed cumulative  \\\n",
      "17  2020-08-02                        0                        0   \n",
      "46  2020-08-03                        0                        0   \n",
      "77  2020-08-04                     1145                     1232   \n",
      "107 2020-08-05                    11447                     2205   \n",
      "138 2020-08-06                    21907                     3188   \n",
      "168 2020-08-07                    32388                     8969   \n",
      "199 2020-08-08                    48112                    24491   \n",
      "204 2020-08-13                    50167                    26628   \n",
      "205 2020-08-14                    50808                    27173   \n",
      "206 2020-08-15                    51640                    27477   \n",
      "207 2020-08-16                    52306                    27477   \n",
      "208 2020-08-17                    52617                    27942   \n",
      "209 2020-08-18                    52930                    28326   \n",
      "210 2020-08-19                    53538                    28696   \n",
      "211 2020-08-20                    53831                    28696   \n",
      "212 2020-08-21                    54709                    29366   \n",
      "213 2020-08-22                    55496                    29659   \n",
      "214 2020-08-23                    56157                    29659   \n",
      "215 2020-08-24                    56585                    30062   \n",
      "216 2020-08-25                    57156                    30471   \n",
      "217 2020-08-26                    58019                    30780   \n",
      "\n",
      "     IA deaths cumulative  ID deaths cumulative  IA confirmed  ID confirmed  \\\n",
      "17                      0                     0           0.0           0.0   \n",
      "46                      0                     0           0.0           0.0   \n",
      "77                     27                    17          97.0          22.0   \n",
      "107                   242                    67         395.0          27.0   \n",
      "138                   607                    83         307.0          50.0   \n",
      "168                   732                    98         461.0         430.0   \n",
      "199                   925                   235         384.0         569.0   \n",
      "204                   954                   251         465.0         495.0   \n",
      "205                   964                   265         641.0         545.0   \n",
      "206                   973                   269         832.0         304.0   \n",
      "207                   975                   269         666.0           0.0   \n",
      "208                   979                   273         311.0         465.0   \n",
      "209                   987                   282         313.0         384.0   \n",
      "210                  1003                   291         608.0         370.0   \n",
      "211                  1012                   291         293.0           0.0   \n",
      "212                  1017                   304         878.0         670.0   \n",
      "213                  1030                   306         787.0         293.0   \n",
      "214                  1035                   306         661.0           0.0   \n",
      "215                  1040                   314         428.0         403.0   \n",
      "216                  1049                   326         571.0         409.0   \n",
      "217                  1062                   337         863.0         309.0   \n",
      "\n",
      "     IA deaths  ID deaths  \n",
      "17         0.0        0.0  \n",
      "46         0.0        0.0  \n",
      "77         1.0        3.0  \n",
      "107       12.0        0.0  \n",
      "138        5.0        0.0  \n",
      "168        7.0        4.0  \n",
      "199       13.0        6.0  \n",
      "204        5.0        5.0  \n",
      "205       10.0       14.0  \n",
      "206        9.0        4.0  \n",
      "207        2.0        0.0  \n",
      "208        4.0        4.0  \n",
      "209        8.0        9.0  \n",
      "210       16.0        9.0  \n",
      "211        9.0        0.0  \n",
      "212        5.0       13.0  \n",
      "213       13.0        2.0  \n",
      "214        5.0        0.0  \n",
      "215        5.0        8.0  \n",
      "216        9.0       12.0  \n",
      "217       13.0       11.0  \n"
     ]
    }
   ],
   "source": [
    "###### Getting August 2020 data ######\n",
    "start_date, end_date = '2020-08-01', '2020-08-29'\n",
    "condition = (data['Date'] >= start_date) & (data['Date'] <= end_date)\n",
    "august_data = data.loc[condition]\n",
    "august_first_3_week_data = august_data[:-7]\n",
    "print(august_first_3_week_data)\n"
   ]
  },
  {
   "cell_type": "code",
   "execution_count": 12,
   "metadata": {},
   "outputs": [
    {
     "name": "stdout",
     "output_type": "stream",
     "text": [
      "Beta Coefficients :  [ 4.01115518e+02  4.61310057e-02 -3.41190266e-02  2.81516663e-01]\n",
      "[644.32650458 579.40024984 582.05360773 574.92816453 569.83659011\n",
      " 568.76874233 568.31314108] 218    1477.0\n",
      "219    2535.0\n",
      "220    1081.0\n",
      "230     327.0\n",
      "260    1515.0\n",
      "291    4249.0\n",
      "321    1393.0\n",
      "Name: IA confirmed, dtype: float64\n",
      "\n",
      "MSE :  2849382.2580728745\n",
      "\n",
      "MAPE :  66.2426116733827\n"
     ]
    }
   ],
   "source": [
    "##### AutoRegression(3) for IA confirmed cases #####\n",
    "handle = 'IA confirmed'\n",
    "\n",
    "beta_coefficients = AutoRegression(3,august_first_3_week_data[handle])\n",
    "print('Beta Coefficients : ' , beta_coefficients)\n",
    "predicted_values = Predict_AR(august_first_3_week_data[handle],beta_coefficients)[-7:]\n",
    "print(predicted_values, august_data[handle][-7:])\n",
    "\n",
    "\n",
    "print('\\nMSE : ' , MSE(predicted_values, august_data[handle][-7:] ))\n",
    "print('\\nMAPE : ', MAPE(predicted_values, august_data[handle][-7:] ))\n"
   ]
  },
  {
   "cell_type": "code",
   "execution_count": 13,
   "metadata": {},
   "outputs": [
    {
     "name": "stdout",
     "output_type": "stream",
     "text": [
      "Beta Coefficients :  [11.53128227  0.09908033 -0.33632856 -0.19175839]\n",
      "[6.50686783 6.80298747 9.32635117 8.09953984 7.51545155 8.29008278\n",
      " 8.21643344] 218    18.0\n",
      "219    11.0\n",
      "220    17.0\n",
      "230     6.0\n",
      "260     5.0\n",
      "291    14.0\n",
      "321     5.0\n",
      "Name: IA deaths, dtype: float64\n",
      "\n",
      "MSE :  37.46800718875394\n",
      "\n",
      "MAPE :  48.22280826487738\n"
     ]
    }
   ],
   "source": [
    "##### AutoRegression(3) for IA deaths cases #####\n",
    "handle = 'IA deaths'\n",
    "\n",
    "beta_coefficients = AutoRegression(3,august_first_3_week_data[handle])\n",
    "print('Beta Coefficients : ' , beta_coefficients)\n",
    "predicted_values = Predict_AR(august_first_3_week_data[handle],beta_coefficients)[-7:]\n",
    "print(predicted_values, august_data[handle][-7:])\n",
    "\n",
    "\n",
    "print('\\nMSE : ' , MSE(predicted_values, august_data[handle][-7:] ))\n",
    "print('\\nMAPE : ', MAPE(predicted_values, august_data[handle][-7:] ))\n"
   ]
  },
  {
   "cell_type": "code",
   "execution_count": 14,
   "metadata": {},
   "outputs": [
    {
     "name": "stdout",
     "output_type": "stream",
     "text": [
      "Beta Coefficients :  [ 2.88994331e+02  1.41280277e-01 -1.31951689e-01  9.77084580e-02]\n",
      "[322.15395554 337.48205881 323.11602982 321.54817264 325.4561602\n",
      " 324.01524849 323.13728637] 218     342.0\n",
      "219     262.0\n",
      "220     293.0\n",
      "230     314.0\n",
      "260     673.0\n",
      "291     649.0\n",
      "321    2013.0\n",
      "Name: ID confirmed, dtype: float64\n",
      "\n",
      "MSE :  441299.0224364499\n",
      "\n",
      "MAPE :  33.27977484884011\n"
     ]
    }
   ],
   "source": [
    "##### AutoRegression(3) for ID confirmed cases #####\n",
    "handle = 'ID confirmed'\n",
    "\n",
    "beta_coefficients = AutoRegression(3,august_first_3_week_data[handle])\n",
    "print('Beta Coefficients : ' , beta_coefficients)\n",
    "predicted_values = Predict_AR(august_first_3_week_data[handle],beta_coefficients)[-7:]\n",
    "print(predicted_values, august_data[handle][-7:])\n",
    "\n",
    "\n",
    "print('\\nMSE : ' , MSE(predicted_values, august_data[handle][-7:] ))\n",
    "print('\\nMAPE : ', MAPE(predicted_values, august_data[handle][-7:] ))\n"
   ]
  },
  {
   "cell_type": "code",
   "execution_count": 15,
   "metadata": {},
   "outputs": [
    {
     "name": "stdout",
     "output_type": "stream",
     "text": [
      "Beta Coefficients :  [ 5.33182013  0.12268488 -0.16319995  0.09989717]\n",
      "[5.45376871 5.55365534 6.34609351 5.72851563 5.54975006 5.72990074\n",
      " 5.70130435] 218     6.0\n",
      "219    10.0\n",
      "220     5.0\n",
      "230     4.0\n",
      "260     3.0\n",
      "291     3.0\n",
      "321    19.0\n",
      "Name: ID deaths, dtype: float64\n",
      "\n",
      "MSE :  30.810996120189202\n",
      "\n",
      "MAPE :  52.81193682036503\n"
     ]
    }
   ],
   "source": [
    "##### AutoRegression(3) for ID deaths cases #####\n",
    "handle = 'ID deaths'\n",
    "\n",
    "beta_coefficients = AutoRegression(3,august_first_3_week_data[handle])\n",
    "print('Beta Coefficients : ' , beta_coefficients)\n",
    "predicted_values = Predict_AR(august_first_3_week_data[handle],beta_coefficients)[-7:]\n",
    "print(predicted_values, august_data[handle][-7:])\n",
    "\n",
    "\n",
    "print('\\nMSE : ' , MSE(predicted_values, august_data[handle][-7:] ))\n",
    "print('\\nMAPE : ', MAPE(predicted_values, august_data[handle][-7:] ))\n"
   ]
  },
  {
   "cell_type": "code",
   "execution_count": 16,
   "metadata": {},
   "outputs": [
    {
     "name": "stdout",
     "output_type": "stream",
     "text": [
      "Beta Coefficients :  [ 5.14180039e+02  1.76266604e-01  7.34411976e-02 -1.95422993e-01\n",
      " -1.43606627e-01  2.33540465e-01]\n",
      "[737.35148492 598.80745804 496.86423946 564.15777609 663.83002105\n",
      " 665.04329834 605.95483127] 218    1477.0\n",
      "219    2535.0\n",
      "220    1081.0\n",
      "230     327.0\n",
      "260    1515.0\n",
      "291    4249.0\n",
      "321    1393.0\n",
      "Name: IA confirmed, dtype: float64\n",
      "\n",
      "MSE :  2697436.5647138814\n",
      "\n",
      "MAPE :  64.29273957596156\n"
     ]
    }
   ],
   "source": [
    "##### AutoRegression(5) for IA confirmed cases #####\n",
    "handle = 'IA confirmed'\n",
    "\n",
    "beta_coefficients = AutoRegression(5,august_first_3_week_data[handle])\n",
    "print('Beta Coefficients : ' , beta_coefficients)\n",
    "predicted_values = Predict_AR(august_first_3_week_data[handle],beta_coefficients)[-7:]\n",
    "print(predicted_values, august_data[handle][-7:])\n",
    "\n",
    "\n",
    "print('\\nMSE : ' , MSE(predicted_values, august_data[handle][-7:] ))\n",
    "print('\\nMAPE : ', MAPE(predicted_values, august_data[handle][-7:] ))"
   ]
  },
  {
   "cell_type": "code",
   "execution_count": 17,
   "metadata": {},
   "outputs": [
    {
     "name": "stdout",
     "output_type": "stream",
     "text": [
      "Beta Coefficients :  [ 6.18167637e+02 -3.30124894e-01 -2.83777575e-02 -6.12995878e-02\n",
      " -2.75798717e-01 -1.89320707e-01]\n",
      "[325.43553517 434.82637992 282.50288827 281.0205596  349.15229077\n",
      " 337.46968869 289.19162733] 218     342.0\n",
      "219     262.0\n",
      "220     293.0\n",
      "230     314.0\n",
      "260     673.0\n",
      "291     649.0\n",
      "321    2013.0\n",
      "Name: ID confirmed, dtype: float64\n",
      "\n",
      "MSE :  457826.42160865356\n",
      "\n",
      "MAPE :  38.09267433885999\n"
     ]
    }
   ],
   "source": [
    "##### AutoRegression(5) for ID confirmed cases #####\n",
    "handle = 'ID confirmed'\n",
    "\n",
    "beta_coefficients = AutoRegression(5,august_first_3_week_data[handle])\n",
    "print('Beta Coefficients : ' , beta_coefficients)\n",
    "predicted_values = Predict_AR(august_first_3_week_data[handle],beta_coefficients)[-7:]\n",
    "print(predicted_values, august_data[handle][-7:])\n",
    "\n",
    "\n",
    "print('\\nMSE : ' , MSE(predicted_values, august_data[handle][-7:] ))\n",
    "print('\\nMAPE : ', MAPE(predicted_values, august_data[handle][-7:] ))"
   ]
  },
  {
   "cell_type": "code",
   "execution_count": 18,
   "metadata": {},
   "outputs": [
    {
     "name": "stdout",
     "output_type": "stream",
     "text": [
      "Beta Coefficients :  [ 1.60707672e+01 -1.52382702e-02 -3.05734957e-01 -3.26461016e-02\n",
      " -5.66014091e-01 -7.70931090e-02]\n",
      "[8.08442717 6.19064935 7.76540583 7.59248926 8.21821942 8.87034239\n",
      " 8.01894097] 218    18.0\n",
      "219    11.0\n",
      "220    17.0\n",
      "230     6.0\n",
      "260     5.0\n",
      "291    14.0\n",
      "321     5.0\n",
      "Name: IA deaths, dtype: float64\n",
      "\n",
      "MSE :  36.43521681960978\n",
      "\n",
      "MAPE :  48.72201918574164\n"
     ]
    }
   ],
   "source": [
    "##### AutoRegression(5) for IA deaths cases #####\n",
    "handle = 'IA deaths'\n",
    "\n",
    "beta_coefficients = AutoRegression(5,august_first_3_week_data[handle])\n",
    "print('Beta Coefficients : ' , beta_coefficients)\n",
    "predicted_values = Predict_AR(august_first_3_week_data[handle],beta_coefficients)[-7:]\n",
    "print(predicted_values, august_data[handle][-7:])\n",
    "\n",
    "\n",
    "print('\\nMSE : ' , MSE(predicted_values, august_data[handle][-7:] ))\n",
    "print('\\nMAPE : ', MAPE(predicted_values, august_data[handle][-7:] ))"
   ]
  },
  {
   "cell_type": "code",
   "execution_count": 19,
   "metadata": {
    "scrolled": true
   },
   "outputs": [
    {
     "name": "stdout",
     "output_type": "stream",
     "text": [
      "Beta Coefficients :  [ 8.94702298  0.03234352 -0.02956219 -0.10792331 -0.32372396 -0.10179831]\n",
      "[3.14385467 3.53444318 6.2863271  6.88654457 6.0923404  5.41624981\n",
      " 5.60868145] 218     6.0\n",
      "219    10.0\n",
      "220     5.0\n",
      "230     4.0\n",
      "260     3.0\n",
      "291     3.0\n",
      "321    19.0\n",
      "Name: ID deaths, dtype: float64\n",
      "\n",
      "MSE :  36.382287565793945\n",
      "\n",
      "MAPE :  66.32120636165934\n"
     ]
    }
   ],
   "source": [
    "##### AutoRegression(5) for ID deaths cases #####\n",
    "handle = 'ID deaths'\n",
    "\n",
    "beta_coefficients = AutoRegression(5,august_first_3_week_data[handle])\n",
    "print('Beta Coefficients : ' , beta_coefficients)\n",
    "predicted_values = Predict_AR(august_first_3_week_data[handle],beta_coefficients)[-7:]\n",
    "print(predicted_values, august_data[handle][-7:])\n",
    "\n",
    "\n",
    "print('\\nMSE : ' , MSE(predicted_values, august_data[handle][-7:] ))\n",
    "print('\\nMAPE : ', MAPE(predicted_values, august_data[handle][-7:] ))"
   ]
  },
  {
   "cell_type": "code",
   "execution_count": 20,
   "metadata": {},
   "outputs": [],
   "source": [
    "def EWMA(alpha, Y):\n",
    "    y_hat = 0.0\n",
    "    Y = Y.to_numpy()\n",
    "    for i in range(len(Y)-1):\n",
    "        y_hat = (1-alpha)*(y_hat + Y[i])\n",
    "    \n",
    "    y_hat+= Y[-1]\n",
    "    y_hat = y_hat*alpha\n",
    "    \n",
    "    return y_hat\n",
    "\n",
    "def Predict_EWMA(alpha, Y, y_hat):\n",
    "    Y = Y.to_numpy()\n",
    "    pred_values = [y_hat]\n",
    "    for i in range(1,7):\n",
    "        y_hat = alpha*Y[i] + (1-alpha)*y_hat\n",
    "        pred_values.append(y_hat)\n",
    "    \n",
    "    return pred_values"
   ]
  },
  {
   "cell_type": "code",
   "execution_count": 21,
   "metadata": {},
   "outputs": [
    {
     "name": "stdout",
     "output_type": "stream",
     "text": [
      "[713.611837387085, 1624.3059186935425, 1352.6529593467712, 839.8264796733856, 1177.4132398366928, 2713.2066199183464, 2053.103309959173] 218    1477.0\n",
      "219    2535.0\n",
      "220    1081.0\n",
      "230     327.0\n",
      "260    1515.0\n",
      "291    4249.0\n",
      "321    1393.0\n",
      "Name: IA confirmed, dtype: float64\n",
      "\n",
      "MSE :  665324.8616970623\n",
      "\n",
      "MAPE :  53.626037631192894\n"
     ]
    }
   ],
   "source": [
    "##### EWMA(0.5) for IA confirmed cases #####\n",
    "handle = 'IA confirmed'\n",
    "alpha = 0.5\n",
    "\n",
    "y_hat_t = EWMA(alpha,august_first_3_week_data[handle])\n",
    "y_pred = Predict_EWMA(alpha,august_data[handle][-7:], y_hat_t)\n",
    "print(y_pred, august_data[handle][-7:] )\n",
    "\n",
    "print('\\nMSE : ' , MSE(y_pred, august_data[handle][-7:] ))\n",
    "print('\\nMAPE : ', MAPE(y_pred, august_data[handle][-7:] ))"
   ]
  },
  {
   "cell_type": "code",
   "execution_count": 22,
   "metadata": {},
   "outputs": [
    {
     "name": "stdout",
     "output_type": "stream",
     "text": [
      "[10.329507827758789, 10.664753913879395, 13.832376956939697, 9.916188478469849, 7.458094239234924, 10.729047119617462, 7.864523559808731] 218    18.0\n",
      "219    11.0\n",
      "220    17.0\n",
      "230     6.0\n",
      "260     5.0\n",
      "291    14.0\n",
      "321     5.0\n",
      "Name: IA deaths, dtype: float64\n",
      "\n",
      "MSE :  15.6094376148345\n",
      "\n",
      "MAPE :  37.05438955974141\n"
     ]
    }
   ],
   "source": [
    "##### EWMA(0.5) for IA deaths cases #####\n",
    "handle = 'IA deaths'\n",
    "alpha = 0.5\n",
    "\n",
    "y_hat_t = EWMA(alpha,august_first_3_week_data[handle])\n",
    "y_pred = Predict_EWMA(alpha,august_data[handle][-7:], y_hat_t)\n",
    "print(y_pred, august_data[handle][-7:] )\n",
    "\n",
    "print('\\nMSE : ' , MSE(y_pred, august_data[handle][-7:] ))\n",
    "print('\\nMAPE : ', MAPE(y_pred, august_data[handle][-7:] ))"
   ]
  },
  {
   "cell_type": "code",
   "execution_count": 23,
   "metadata": {},
   "outputs": [
    {
     "name": "stdout",
     "output_type": "stream",
     "text": [
      "[329.5948257446289, 295.79741287231445, 294.3987064361572, 304.1993532180786, 488.5996766090393, 568.7998383045197, 1290.8999191522598] 218     342.0\n",
      "219     262.0\n",
      "220     293.0\n",
      "230     314.0\n",
      "260     673.0\n",
      "291     649.0\n",
      "321    2013.0\n",
      "Name: ID confirmed, dtype: float64\n",
      "\n",
      "MSE :  80465.46206931304\n",
      "\n",
      "MAPE :  13.679243580916213\n"
     ]
    }
   ],
   "source": [
    "##### EWMA(0.5) for ID confirmed cases #####\n",
    "handle = 'ID confirmed'\n",
    "alpha = 0.5\n",
    "\n",
    "y_hat_t = EWMA(alpha,august_first_3_week_data[handle])\n",
    "y_pred = Predict_EWMA(alpha,august_data[handle][-7:], y_hat_t)\n",
    "print(y_pred, august_data[handle][-7:] )\n",
    "\n",
    "print('\\nMSE : ' , MSE(y_pred, august_data[handle][-7:] ))\n",
    "print('\\nMAPE : ', MAPE(y_pred, august_data[handle][-7:] ))"
   ]
  },
  {
   "cell_type": "code",
   "execution_count": 24,
   "metadata": {},
   "outputs": [
    {
     "name": "stdout",
     "output_type": "stream",
     "text": [
      "[9.825506210327148, 9.912753105163574, 7.456376552581787, 5.7281882762908936, 4.364094138145447, 3.6820470690727234, 11.341023534536362] 218     6.0\n",
      "219    10.0\n",
      "220     5.0\n",
      "230     4.0\n",
      "260     3.0\n",
      "291     3.0\n",
      "321    19.0\n",
      "Name: ID deaths, dtype: float64\n",
      "\n",
      "MSE :  12.092627398996058\n",
      "\n",
      "MAPE :  37.92546472901987\n"
     ]
    }
   ],
   "source": [
    "##### EWMA(0.5) for ID deaths cases #####\n",
    "handle = 'ID deaths'\n",
    "alpha = 0.5\n",
    "\n",
    "y_hat_t = EWMA(alpha,august_first_3_week_data[handle])\n",
    "y_pred = Predict_EWMA(alpha,august_data[handle][-7:], y_hat_t)\n",
    "print(y_pred, august_data[handle][-7:] )\n",
    "\n",
    "print('\\nMSE : ' , MSE(y_pred, august_data[handle][-7:] ))\n",
    "print('\\nMAPE : ', MAPE(y_pred, august_data[handle][-7:] ))"
   ]
  },
  {
   "cell_type": "code",
   "execution_count": 25,
   "metadata": {},
   "outputs": [
    {
     "name": "stdout",
     "output_type": "stream",
     "text": [
      "[800.9405945894398, 2188.188118917888, 1302.4376237835777, 522.0875247567155, 1316.417504951343, 3662.483500990269, 1846.8967001980536] 218    1477.0\n",
      "219    2535.0\n",
      "220    1081.0\n",
      "230     327.0\n",
      "260    1515.0\n",
      "291    4249.0\n",
      "321    1393.0\n",
      "Name: IA confirmed, dtype: float64\n",
      "\n",
      "MSE :  179126.76992106796\n",
      "\n",
      "MAPE :  28.44188981460253\n"
     ]
    }
   ],
   "source": [
    "##### EWMA(0.8) for IA confirmed cases #####\n",
    "handle = 'IA confirmed'\n",
    "alpha = 0.8\n",
    "\n",
    "y_hat_t = EWMA(alpha,august_first_3_week_data[handle])\n",
    "y_pred = Predict_EWMA(alpha,august_data[handle][-7:], y_hat_t)\n",
    "print(y_pred, august_data[handle][-7:] )\n",
    "\n",
    "print('\\nMSE : ' , MSE(y_pred, august_data[handle][-7:] ))\n",
    "print('\\nMAPE : ', MAPE(y_pred, august_data[handle][-7:] ))"
   ]
  },
  {
   "cell_type": "code",
   "execution_count": 26,
   "metadata": {
    "scrolled": true
   },
   "outputs": [
    {
     "name": "stdout",
     "output_type": "stream",
     "text": [
      "[12.050563011667244, 11.21011260233345, 15.84202252046669, 7.968404504093338, 5.593680900818667, 12.318736180163734, 6.463747236032747] 218    18.0\n",
      "219    11.0\n",
      "220    17.0\n",
      "230     6.0\n",
      "260     5.0\n",
      "291    14.0\n",
      "321     5.0\n",
      "Name: IA deaths, dtype: float64\n",
      "\n",
      "MSE :  6.568162419074762\n",
      "\n",
      "MAPE :  18.24835803837691\n"
     ]
    }
   ],
   "source": [
    "##### EWMA(0.8) for IA deaths cases #####\n",
    "handle = 'IA deaths'\n",
    "alpha = 0.8\n",
    "\n",
    "y_hat_t = EWMA(alpha,august_first_3_week_data[handle])\n",
    "y_pred = Predict_EWMA(alpha,august_data[handle][-7:], y_hat_t)\n",
    "print(y_pred, august_data[handle][-7:] )\n",
    "\n",
    "print('\\nMSE : ' , MSE(y_pred, august_data[handle][-7:] ))\n",
    "print('\\nMAPE : ', MAPE(y_pred, august_data[handle][-7:] ))"
   ]
  },
  {
   "cell_type": "code",
   "execution_count": 27,
   "metadata": {},
   "outputs": [
    {
     "name": "stdout",
     "output_type": "stream",
     "text": [
      "[326.08733287314243, 274.8174665746285, 289.3634933149257, 309.07269866298515, 600.214539732597, 639.2429079465194, 1738.248581589304] 218     342.0\n",
      "219     262.0\n",
      "220     293.0\n",
      "230     314.0\n",
      "260     673.0\n",
      "291     649.0\n",
      "321    2013.0\n",
      "Name: ID confirmed, dtype: float64\n",
      "\n",
      "MSE :  11619.466984883626\n",
      "\n",
      "MAPE :  5.474665068110251\n"
     ]
    }
   ],
   "source": [
    "##### EWMA(0.8) for ID confirmed cases #####\n",
    "handle = 'ID confirmed'\n",
    "alpha = 0.8\n",
    "\n",
    "y_hat_t = EWMA(alpha,august_first_3_week_data[handle])\n",
    "y_pred = Predict_EWMA(alpha,august_data[handle][-7:], y_hat_t)\n",
    "print(y_pred, august_data[handle][-7:] )\n",
    "\n",
    "print('\\nMSE : ' , MSE(y_pred, august_data[handle][-7:] ))\n",
    "print('\\nMAPE : ', MAPE(y_pred, august_data[handle][-7:] ))"
   ]
  },
  {
   "cell_type": "code",
   "execution_count": 28,
   "metadata": {},
   "outputs": [
    {
     "name": "stdout",
     "output_type": "stream",
     "text": [
      "[10.98200034597992, 10.196400069195983, 6.039280013839196, 4.407856002767839, 3.281571200553568, 3.056314240110714, 15.811262848022144] 218     6.0\n",
      "219    10.0\n",
      "220     5.0\n",
      "230     4.0\n",
      "260     3.0\n",
      "291     3.0\n",
      "321    19.0\n",
      "Name: ID deaths, dtype: float64\n",
      "\n",
      "MSE :  5.19369259424398\n",
      "\n",
      "MAPE :  20.575002182202958\n"
     ]
    }
   ],
   "source": [
    "##### EWMA(0.8) for ID deaths cases #####\n",
    "handle = 'ID deaths'\n",
    "alpha = 0.8\n",
    "\n",
    "y_hat_t = EWMA(alpha,august_first_3_week_data[handle])\n",
    "y_pred = Predict_EWMA(alpha,august_data[handle][-7:], y_hat_t)\n",
    "print(y_pred, august_data[handle][-7:] )\n",
    "\n",
    "print('\\nMSE : ' , MSE(y_pred, august_data[handle][-7:] ))\n",
    "print('\\nMAPE : ', MAPE(y_pred, august_data[handle][-7:] ))"
   ]
  }
 ],
 "metadata": {
  "kernelspec": {
   "display_name": "Python 3",
   "language": "python",
   "name": "python3"
  },
  "language_info": {
   "codemirror_mode": {
    "name": "ipython",
    "version": 3
   },
   "file_extension": ".py",
   "mimetype": "text/x-python",
   "name": "python",
   "nbconvert_exporter": "python",
   "pygments_lexer": "ipython3",
   "version": "3.8.5"
  }
 },
 "nbformat": 4,
 "nbformat_minor": 4
}
